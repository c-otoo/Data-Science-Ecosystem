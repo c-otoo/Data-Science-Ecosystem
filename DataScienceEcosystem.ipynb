{
 "cells": [
  {
   "cell_type": "markdown",
   "id": "ff76c929-ef61-4186-a8a4-864004a9f615",
   "metadata": {},
   "source": [
    "# **Data Science Tools and Ecosystem**"
   ]
  },
  {
   "cell_type": "markdown",
   "id": "1f54ef63-d025-4e2f-a900-de5517d9965f",
   "metadata": {},
   "source": [
    "In this notebook, Data Science Tools and Ecosystem are summarized."
   ]
  },
  {
   "cell_type": "markdown",
   "id": "ed8d61ca-8475-4942-b484-19ccc5686d65",
   "metadata": {},
   "source": [
    "**Objectives:**\n",
    "* List popular languages for Data Science\n",
    "* Some commonly used libraries used by Data Scienctists\n",
    "* Create one column table\n",
    "* Create examples of evaluating arithmetic expressions in Python\n",
    "* Convert 200 minutes to hours"
   ]
  },
  {
   "cell_type": "markdown",
   "id": "443a93b9-a4b7-45c7-ab27-81ff905e04cc",
   "metadata": {},
   "source": [
    "Some of the popular languages that Data Science use are:\n",
    "1. Python\n",
    "2. R\n",
    "3. SQL"
   ]
  },
  {
   "cell_type": "markdown",
   "id": "6c173d91-e752-43f8-9e11-09e04fee9543",
   "metadata": {},
   "source": [
    "Some of the commonly used libraries used by Data Scientists include:\n",
    "1. NumPy\n",
    "2. Pandas\n",
    "3. Matplotlib\n",
    "4. Seaborn"
   ]
  },
  {
   "cell_type": "markdown",
   "id": "89341182-5832-4381-90ee-ca2ecaf1b546",
   "metadata": {},
   "source": [
    "|Data Science Tools|\n",
    "|------------------|\n",
    "|Jupyter Notebook|\n",
    "|PyCharm|\n",
    "|VS Code|"
   ]
  },
  {
   "cell_type": "markdown",
   "id": "2f878b86-8d3c-4d29-a257-5059a6c78d39",
   "metadata": {},
   "source": [
    "### Below are a few examples of evaluating arithmetic expressions in Python"
   ]
  },
  {
   "cell_type": "code",
   "execution_count": 2,
   "id": "6bdd4542-ff6c-4f09-80bd-7fc9bbeda4b5",
   "metadata": {},
   "outputs": [
    {
     "data": {
      "text/plain": [
       "17"
      ]
     },
     "execution_count": 2,
     "metadata": {},
     "output_type": "execute_result"
    }
   ],
   "source": [
    "# This a simple arithmetic expression to mutiply then add integers\n",
    "(3*4)+5"
   ]
  },
  {
   "cell_type": "code",
   "execution_count": 3,
   "id": "2512cff1-a934-4b5d-8395-82de9ba5ded2",
   "metadata": {},
   "outputs": [
    {
     "data": {
      "text/plain": [
       "3.3333333333333335"
      ]
     },
     "execution_count": 3,
     "metadata": {},
     "output_type": "execute_result"
    }
   ],
   "source": [
    "# This will convert 200 minutes to hours by diving by 60\n",
    "200/60"
   ]
  },
  {
   "cell_type": "markdown",
   "id": "7c43ba64-71f7-4d36-8e7d-513a1c37ae8d",
   "metadata": {},
   "source": [
    "## Author\n",
    "Christian Otoo"
   ]
  },
  {
   "cell_type": "code",
   "execution_count": null,
   "id": "8e87337a-bdd3-4f67-8d85-1c395e18624f",
   "metadata": {},
   "outputs": [],
   "source": []
  }
 ],
 "metadata": {
  "kernelspec": {
   "display_name": "Python 3 (ipykernel)",
   "language": "python",
   "name": "python3"
  },
  "language_info": {
   "codemirror_mode": {
    "name": "ipython",
    "version": 3
   },
   "file_extension": ".py",
   "mimetype": "text/x-python",
   "name": "python",
   "nbconvert_exporter": "python",
   "pygments_lexer": "ipython3",
   "version": "3.12.7"
  }
 },
 "nbformat": 4,
 "nbformat_minor": 5
}
